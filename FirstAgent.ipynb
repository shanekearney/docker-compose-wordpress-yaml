{
  "nbformat": 4,
  "nbformat_minor": 0,
  "metadata": {
    "colab": {
      "provenance": [],
      "toc_visible": true,
      "authorship_tag": "ABX9TyMapJNK/E/+6eR+gIR8gcpk",
      "include_colab_link": true
    },
    "kernelspec": {
      "name": "python3",
      "display_name": "Python 3"
    },
    "language_info": {
      "name": "python"
    }
  },
  "cells": [
    {
      "cell_type": "markdown",
      "metadata": {
        "id": "view-in-github",
        "colab_type": "text"
      },
      "source": [
        "<a href=\"https://colab.research.google.com/github/shanekearney/docker-compose-wordpress-yaml/blob/main/FirstAgent.ipynb\" target=\"_parent\"><img src=\"https://colab.research.google.com/assets/colab-badge.svg\" alt=\"Open In Colab\"/></a>"
      ]
    },
    {
      "cell_type": "code",
      "execution_count": 16,
      "metadata": {
        "id": "y-piuNYYZs_j"
      },
      "outputs": [],
      "source": [
        "pip install crewai"
      ]
    },
    {
      "cell_type": "code",
      "source": [
        "pip install duckduckgo-search"
      ],
      "metadata": {
        "id": "2YC5A-i0bD3U"
      },
      "execution_count": 17,
      "outputs": []
    },
    {
      "cell_type": "code",
      "source": [
        "import opentelemetry.sdk as sdk\n",
        "from opentelemetry.sdk.metrics import Metrics\n",
        "from opentelemetry.sdk.tracing import TracerProvider, Resource"
      ],
      "metadata": {
        "id": "1FhyvV1TGX_w"
      },
      "execution_count": null,
      "outputs": []
    },
    {
      "cell_type": "code",
      "source": [
        "from langchain.llms import OpenAI\n",
        "from langchain_community.tools import DuckDuckGoSearchRun\n",
        "search_tool = DuckDuckGoSearchRun()\n",
        "\n",
        "import os\n",
        "from crewai import Agent, Task, Crew, Process"
      ],
      "metadata": {
        "id": "y3Pu_igtxUef"
      },
      "execution_count": 35,
      "outputs": []
    },
    {
      "cell_type": "code",
      "source": [
        "os.environ['OPENAI_MODEL_NAME'] = 'gpt-3.5-turbo'\n",
        "os.environ['OPENAI_API_KEY'] = \"sk-proj-jNMTbPw01LCuU9v6KL3sT3BlbkFJjqbeR36IW3G0RfqpnU74\""
      ],
      "metadata": {
        "id": "Rh9SLdYgyHJS"
      },
      "execution_count": 36,
      "outputs": []
    },
    {
      "cell_type": "code",
      "source": [
        "# Define your agents with roles and goals\n",
        "researcher = Agent(\n",
        "    role = 'Senior Research Analyst',\n",
        "    goal = 'uncover latest AI advancements',\n",
        "    backstory = 'You work at a leading research media company and your expertise lies in identifying latest trends',\n",
        "    verbose = True,\n",
        "    tools = [search_tool],\n",
        "    allow_delegation = False,\n",
        ")\n",
        "# Create tasks for your agents\n",
        "writer = Agent(\n",
        "    role = 'AI content creator',\n",
        "    goal = 'craft compelling content on AI tech advancements',\n",
        "    backstory = 'you are a content strategist, known for writing compelling articles on AI',\n",
        "    verbose = True,\n",
        "    allow_delegation = True,\n",
        ")\n",
        "task1 = Task(\n",
        "    description ='Conduct a comprehensive analysis of the latest AI tech in 2024. identify key trends. Breakthrough technologies, and potential investment opportunities',\n",
        "    expected_output = 'full analysis report with bullet points, and name your sources.',\n",
        "    agent = researcher,\n",
        ")\n",
        "\n",
        "task2 = Task(\n",
        "    description = 'using insights provided, develop an engaging blog post. Posts that highlight the most significent AI advancements. make it sound fun and make the post feel like the future is already here. Make it cater for a tech savvy audience.',\n",
        "    expected_output = 'The blog post must be at least two paragraphs long. Make sure it sounds like a human wrote the blog post',\n",
        "    agent = writer,\n",
        ")"
      ],
      "metadata": {
        "id": "qPOG1e950wBB"
      },
      "execution_count": 37,
      "outputs": []
    },
    {
      "cell_type": "code",
      "source": [
        "crew = Crew(\n",
        "  agents=[researcher, writer],\n",
        "  tasks=[task1, task2],\n",
        "  verbose=2, # You can set it to 1 or 2 to different logging levels\n",
        ")"
      ],
      "metadata": {
        "colab": {
          "base_uri": "https://localhost:8080/"
        },
        "id": "0ZRK4LORBaul",
        "outputId": "45a525b5-62f5-4a11-f31b-6c984e99442e"
      },
      "execution_count": 38,
      "outputs": [
        {
          "output_type": "stream",
          "name": "stderr",
          "text": [
            "WARNING:opentelemetry.trace:Overriding of current TracerProvider is not allowed\n"
          ]
        }
      ]
    },
    {
      "cell_type": "code",
      "source": [
        "# Get your crew to work!\n",
        "result = crew.kickoff()\n",
        "print('########')\n",
        "print(result)"
      ],
      "metadata": {
        "id": "v8kjn2eW9Vuw"
      },
      "execution_count": null,
      "outputs": []
    }
  ]
}